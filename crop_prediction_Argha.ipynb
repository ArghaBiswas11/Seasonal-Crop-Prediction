{
  "nbformat": 4,
  "nbformat_minor": 0,
  "metadata": {
    "colab": {
      "provenance": []
    },
    "kernelspec": {
      "name": "python3",
      "display_name": "Python 3"
    },
    "language_info": {
      "name": "python"
    },
    "widgets": {
      "application/vnd.jupyter.widget-state+json": {
        "ba7d64fa6f0e4fff96c95518565bb080": {
          "model_module": "@jupyter-widgets/controls",
          "model_name": "VBoxModel",
          "model_module_version": "1.5.0",
          "state": {
            "_dom_classes": [
              "widget-interact"
            ],
            "_model_module": "@jupyter-widgets/controls",
            "_model_module_version": "1.5.0",
            "_model_name": "VBoxModel",
            "_view_count": null,
            "_view_module": "@jupyter-widgets/controls",
            "_view_module_version": "1.5.0",
            "_view_name": "VBoxView",
            "box_style": "",
            "children": [
              "IPY_MODEL_08343f34a31248108715b88ef8648376",
              "IPY_MODEL_2f72e15007ed4275b7aa5d32111c8fa2"
            ],
            "layout": "IPY_MODEL_9c9e8b9416944fe3b50db4fc9a3c1e2a"
          }
        },
        "08343f34a31248108715b88ef8648376": {
          "model_module": "@jupyter-widgets/controls",
          "model_name": "DropdownModel",
          "model_module_version": "1.5.0",
          "state": {
            "_dom_classes": [],
            "_model_module": "@jupyter-widgets/controls",
            "_model_module_version": "1.5.0",
            "_model_name": "DropdownModel",
            "_options_labels": [
              "rice",
              "maize",
              "jute",
              "cotton",
              "coconut",
              "papaya",
              "orange",
              "apple",
              "muskmelon",
              "watermelon",
              "grapes",
              "mango",
              "banana",
              "pomegranate",
              "lentil",
              "blackgram",
              "mungbean",
              "mothbeans",
              "pigeonpeas",
              "kidneybeans",
              "chickpea",
              "coffee"
            ],
            "_view_count": null,
            "_view_module": "@jupyter-widgets/controls",
            "_view_module_version": "1.5.0",
            "_view_name": "DropdownView",
            "description": "crops",
            "description_tooltip": null,
            "disabled": false,
            "index": 0,
            "layout": "IPY_MODEL_6310d7162a71435d81bfd79d888b63c0",
            "style": "IPY_MODEL_0253013e96864639a31bee253efc3184"
          }
        },
        "2f72e15007ed4275b7aa5d32111c8fa2": {
          "model_module": "@jupyter-widgets/output",
          "model_name": "OutputModel",
          "model_module_version": "1.0.0",
          "state": {
            "_dom_classes": [],
            "_model_module": "@jupyter-widgets/output",
            "_model_module_version": "1.0.0",
            "_model_name": "OutputModel",
            "_view_count": null,
            "_view_module": "@jupyter-widgets/output",
            "_view_module_version": "1.0.0",
            "_view_name": "OutputView",
            "layout": "IPY_MODEL_5e4a92c6e07d431fa8e33744440382b3",
            "msg_id": "",
            "outputs": [
              {
                "output_type": "stream",
                "name": "stdout",
                "text": [
                  "Minimum Nitrogen Required 60\n",
                  "Average Nitrogen Required 79.89\n",
                  "Maximum Nitrogen Required 99\n",
                  "-----------------------------------------\n",
                  "Minimum Phosphorus Required 35\n",
                  "Average Phosphorus Required 47.58\n",
                  "Maximum Phosphorus Required 60\n",
                  "-----------------------------------------\n",
                  "Minimum Potassium Required 35\n",
                  "Average Potassium Required 39.87\n",
                  "Maximum Potassium Required 45\n",
                  "-----------------------------------------\n",
                  "Minimum PH Required 5.005306977\n",
                  "Average PH Required 6.425470922139999\n",
                  "Maximum PH Required 7.868474653\n",
                  "-----------------------------------------\n",
                  "Minimum Temperature Required 20.0454142\n",
                  "Average Temperature Required 23.6893322105\n",
                  "Maximum Temperature Required 26.92995077\n",
                  "-----------------------------------------\n",
                  "Minimum Humidity Required 80.12267476\n",
                  "Average Humidity Required 82.27282153889999\n",
                  "Maximum Humidity Required 84.96907151\n",
                  "-----------------------------------------\n",
                  "Minimum Rainfall Required 182.5616319\n",
                  "Average Rainfall Required 236.18111359399998\n",
                  "Maximum Rainfall Required 298.5601175\n",
                  "-----------------------------------------\n"
                ]
              }
            ]
          }
        },
        "9c9e8b9416944fe3b50db4fc9a3c1e2a": {
          "model_module": "@jupyter-widgets/base",
          "model_name": "LayoutModel",
          "model_module_version": "1.2.0",
          "state": {
            "_model_module": "@jupyter-widgets/base",
            "_model_module_version": "1.2.0",
            "_model_name": "LayoutModel",
            "_view_count": null,
            "_view_module": "@jupyter-widgets/base",
            "_view_module_version": "1.2.0",
            "_view_name": "LayoutView",
            "align_content": null,
            "align_items": null,
            "align_self": null,
            "border": null,
            "bottom": null,
            "display": null,
            "flex": null,
            "flex_flow": null,
            "grid_area": null,
            "grid_auto_columns": null,
            "grid_auto_flow": null,
            "grid_auto_rows": null,
            "grid_column": null,
            "grid_gap": null,
            "grid_row": null,
            "grid_template_areas": null,
            "grid_template_columns": null,
            "grid_template_rows": null,
            "height": null,
            "justify_content": null,
            "justify_items": null,
            "left": null,
            "margin": null,
            "max_height": null,
            "max_width": null,
            "min_height": null,
            "min_width": null,
            "object_fit": null,
            "object_position": null,
            "order": null,
            "overflow": null,
            "overflow_x": null,
            "overflow_y": null,
            "padding": null,
            "right": null,
            "top": null,
            "visibility": null,
            "width": null
          }
        },
        "6310d7162a71435d81bfd79d888b63c0": {
          "model_module": "@jupyter-widgets/base",
          "model_name": "LayoutModel",
          "model_module_version": "1.2.0",
          "state": {
            "_model_module": "@jupyter-widgets/base",
            "_model_module_version": "1.2.0",
            "_model_name": "LayoutModel",
            "_view_count": null,
            "_view_module": "@jupyter-widgets/base",
            "_view_module_version": "1.2.0",
            "_view_name": "LayoutView",
            "align_content": null,
            "align_items": null,
            "align_self": null,
            "border": null,
            "bottom": null,
            "display": null,
            "flex": null,
            "flex_flow": null,
            "grid_area": null,
            "grid_auto_columns": null,
            "grid_auto_flow": null,
            "grid_auto_rows": null,
            "grid_column": null,
            "grid_gap": null,
            "grid_row": null,
            "grid_template_areas": null,
            "grid_template_columns": null,
            "grid_template_rows": null,
            "height": null,
            "justify_content": null,
            "justify_items": null,
            "left": null,
            "margin": null,
            "max_height": null,
            "max_width": null,
            "min_height": null,
            "min_width": null,
            "object_fit": null,
            "object_position": null,
            "order": null,
            "overflow": null,
            "overflow_x": null,
            "overflow_y": null,
            "padding": null,
            "right": null,
            "top": null,
            "visibility": null,
            "width": null
          }
        },
        "0253013e96864639a31bee253efc3184": {
          "model_module": "@jupyter-widgets/controls",
          "model_name": "DescriptionStyleModel",
          "model_module_version": "1.5.0",
          "state": {
            "_model_module": "@jupyter-widgets/controls",
            "_model_module_version": "1.5.0",
            "_model_name": "DescriptionStyleModel",
            "_view_count": null,
            "_view_module": "@jupyter-widgets/base",
            "_view_module_version": "1.2.0",
            "_view_name": "StyleView",
            "description_width": ""
          }
        },
        "5e4a92c6e07d431fa8e33744440382b3": {
          "model_module": "@jupyter-widgets/base",
          "model_name": "LayoutModel",
          "model_module_version": "1.2.0",
          "state": {
            "_model_module": "@jupyter-widgets/base",
            "_model_module_version": "1.2.0",
            "_model_name": "LayoutModel",
            "_view_count": null,
            "_view_module": "@jupyter-widgets/base",
            "_view_module_version": "1.2.0",
            "_view_name": "LayoutView",
            "align_content": null,
            "align_items": null,
            "align_self": null,
            "border": null,
            "bottom": null,
            "display": null,
            "flex": null,
            "flex_flow": null,
            "grid_area": null,
            "grid_auto_columns": null,
            "grid_auto_flow": null,
            "grid_auto_rows": null,
            "grid_column": null,
            "grid_gap": null,
            "grid_row": null,
            "grid_template_areas": null,
            "grid_template_columns": null,
            "grid_template_rows": null,
            "height": null,
            "justify_content": null,
            "justify_items": null,
            "left": null,
            "margin": null,
            "max_height": null,
            "max_width": null,
            "min_height": null,
            "min_width": null,
            "object_fit": null,
            "object_position": null,
            "order": null,
            "overflow": null,
            "overflow_x": null,
            "overflow_y": null,
            "padding": null,
            "right": null,
            "top": null,
            "visibility": null,
            "width": null
          }
        }
      }
    }
  },
  "cells": [
    {
      "cell_type": "code",
      "execution_count": 1,
      "metadata": {
        "id": "7KAsmdrKGiQx"
      },
      "outputs": [],
      "source": [
        "#for data manipulation\n",
        "import numpy as np\n",
        "import pandas as pd\n",
        "#for data visualiztion\n",
        "import matplotlib.pyplot as plt\n",
        "import seaborn as sns\n",
        "#for interactive analysis\n",
        "from ipywidgets import interact\n",
        "import warnings\n",
        "warnings.filterwarnings(\"ignore\")"
      ]
    },
    {
      "cell_type": "markdown",
      "source": [
        "**Load Dataset**"
      ],
      "metadata": {
        "id": "DcqMOTpaV-Cm"
      }
    },
    {
      "cell_type": "code",
      "source": [
        "data=pd.read_csv(\"/content/data (1).csv\")\n",
        "print(data)"
      ],
      "metadata": {
        "id": "tO3sWK2gG-7M",
        "colab": {
          "base_uri": "https://localhost:8080/"
        },
        "outputId": "4dc5c11a-cc8e-437d-8500-617f43421c74"
      },
      "execution_count": 2,
      "outputs": [
        {
          "output_type": "stream",
          "name": "stdout",
          "text": [
            "        N   P   K  temperature   humidity        ph    rainfall   label\n",
            "0      90  42  43    20.879744  82.002744  6.502985  202.935536    rice\n",
            "1      85  58  41    21.770462  80.319644  7.038096  226.655537    rice\n",
            "2      60  55  44    23.004459  82.320763  7.840207  263.964248    rice\n",
            "3      74  35  40    26.491096  80.158363  6.980401  242.864034    rice\n",
            "4      78  42  42    20.130175  81.604873  7.628473  262.717340    rice\n",
            "...   ...  ..  ..          ...        ...       ...         ...     ...\n",
            "2195  107  34  32    26.774637  66.413269  6.780064  177.774507  coffee\n",
            "2196   99  15  27    27.417112  56.636362  6.086922  127.924610  coffee\n",
            "2197  118  33  30    24.131797  67.225123  6.362608  173.322839  coffee\n",
            "2198  117  32  34    26.272418  52.127394  6.758793  127.175293  coffee\n",
            "2199  104  18  30    23.603016  60.396475  6.779833  140.937041  coffee\n",
            "\n",
            "[2200 rows x 8 columns]\n"
          ]
        }
      ]
    },
    {
      "cell_type": "markdown",
      "source": [
        "**Missing Data Checking**"
      ],
      "metadata": {
        "id": "jnz2xS_-WQwg"
      }
    },
    {
      "cell_type": "code",
      "source": [
        "sns.heatmap(data.isnull())"
      ],
      "metadata": {
        "colab": {
          "base_uri": "https://localhost:8080/",
          "height": 527
        },
        "id": "2YdTQ9NEWdh5",
        "outputId": "05721080-08be-4253-8a10-89af0f7182a7"
      },
      "execution_count": 3,
      "outputs": [
        {
          "output_type": "execute_result",
          "data": {
            "text/plain": [
              "<Axes: >"
            ]
          },
          "metadata": {},
          "execution_count": 3
        },
        {
          "output_type": "display_data",
          "data": {
            "text/plain": [
              "<Figure size 640x480 with 2 Axes>"
            ],
            "image/png": "[encoded data removed]"
          },
          "metadata": {}
        }
      ]
    },
    {
      "cell_type": "markdown",
      "source": [
        "**Seasonal Crops**"
      ],
      "metadata": {
        "id": "0_VrUUzFWxkf"
      }
    },
    {
      "cell_type": "markdown",
      "source": [
        "Summer Crops"
      ],
      "metadata": {
        "id": "v4i33EGoXBr3"
      }
    },
    {
      "cell_type": "code",
      "source": [
        "print(data[(data['temperature']>30) & (data['humidity']>50)]['label'].unique())"
      ],
      "metadata": {
        "colab": {
          "base_uri": "https://localhost:8080/"
        },
        "id": "FGYLPPU2XInq",
        "outputId": "899aa792-ed8b-43b2-b524-ebaa34ae5808"
      },
      "execution_count": 4,
      "outputs": [
        {
          "output_type": "stream",
          "name": "stdout",
          "text": [
            "['pigeonpeas' 'mothbeans' 'blackgram' 'mango' 'grapes' 'orange' 'papaya']\n"
          ]
        }
      ]
    },
    {
      "cell_type": "markdown",
      "source": [
        "Monsoon crops"
      ],
      "metadata": {
        "id": "GhP5cRzFYJBj"
      }
    },
    {
      "cell_type": "code",
      "source": [
        "print(data[(data['rainfall']>200) & (data['humidity']>50)]['label'].unique())"
      ],
      "metadata": {
        "colab": {
          "base_uri": "https://localhost:8080/"
        },
        "id": "g4Ed3ar9YUhU",
        "outputId": "91cc0acf-cf5e-4714-c427-9c5ddb2bfeb1"
      },
      "execution_count": 5,
      "outputs": [
        {
          "output_type": "stream",
          "name": "stdout",
          "text": [
            "['rice' 'papaya' 'coconut']\n"
          ]
        }
      ]
    },
    {
      "cell_type": "markdown",
      "source": [
        "Winter Crops"
      ],
      "metadata": {
        "id": "J8HwusAlY0he"
      }
    },
    {
      "cell_type": "code",
      "source": [
        "print(data[(data['temperature']<20) & (data['humidity']<50)]['label'].unique())"
      ],
      "metadata": {
        "colab": {
          "base_uri": "https://localhost:8080/"
        },
        "id": "68UU-Y7vY6bP",
        "outputId": "1d82c5ca-3dee-47c5-953f-4654fbd93608"
      },
      "execution_count": 6,
      "outputs": [
        {
          "output_type": "stream",
          "name": "stdout",
          "text": [
            "['chickpea' 'kidneybeans' 'pigeonpeas']\n"
          ]
        }
      ]
    },
    {
      "cell_type": "markdown",
      "source": [
        "Crop Wise Requirements"
      ],
      "metadata": {
        "id": "Et0l-Lt8b4al"
      }
    },
    {
      "cell_type": "code",
      "source": [
        "@interact\n",
        "def summary(crops=list(data['label'].value_counts().index)):\n",
        "  x=data[data['label']==crops]\n",
        "  print(\"Minimum Nitrogen Required\",x['N'].min())\n",
        "  print(\"Average Nitrogen Required\",x['N'].mean())\n",
        "  print(\"Maximum Nitrogen Required\",x['N'].max())\n",
        "  print(\"-----------------------------------------\")\n",
        "\n",
        "  print(\"Minimum Phosphorus Required\",x['P'].min())\n",
        "  print(\"Average Phosphorus Required\",x['P'].mean())\n",
        "  print(\"Maximum Phosphorus Required\",x['P'].max())\n",
        "  print(\"-----------------------------------------\")\n",
        "\n",
        "  print(\"Minimum Potassium Required\",x['K'].min())\n",
        "  print(\"Average Potassium Required\",x['K'].mean())\n",
        "  print(\"Maximum Potassium Required\",x['K'].max())\n",
        "  print(\"-----------------------------------------\")\n",
        "\n",
        "  print(\"Minimum PH Required\",x['ph'].min())\n",
        "  print(\"Average PH Required\",x['ph'].mean())\n",
        "  print(\"Maximum PH Required\",x['ph'].max())\n",
        "  print(\"-----------------------------------------\")\n",
        "\n",
        "  print(\"Minimum Temperature Required\",x['temperature'].min())\n",
        "  print(\"Average Temperature Required\",x['temperature'].mean())\n",
        "  print(\"Maximum Temperature Required\",x['temperature'].max())\n",
        "  print(\"-----------------------------------------\")\n",
        "\n",
        "  print(\"Minimum Humidity Required\",x['humidity'].min())\n",
        "  print(\"Average Humidity Required\",x['humidity'].mean())\n",
        "  print(\"Maximum Humidity Required\",x['humidity'].max())\n",
        "  print(\"-----------------------------------------\")\n",
        "\n",
        "  print(\"Minimum Rainfall Required\",x['rainfall'].min())\n",
        "  print(\"Average Rainfall Required\",x['rainfall'].mean())\n",
        "  print(\"Maximum Rainfall Required\",x['rainfall'].max())\n",
        "  print(\"-----------------------------------------\")\n",
        "  "
      ],
      "metadata": {
        "colab": {
          "base_uri": "https://localhost:8080/",
          "height": 535,
          "referenced_widgets": [
            "ba7d64fa6f0e4fff96c95518565bb080",
            "08343f34a31248108715b88ef8648376",
            "2f72e15007ed4275b7aa5d32111c8fa2",
            "9c9e8b9416944fe3b50db4fc9a3c1e2a",
            "6310d7162a71435d81bfd79d888b63c0",
            "0253013e96864639a31bee253efc3184",
            "5e4a92c6e07d431fa8e33744440382b3"
          ]
        },
        "id": "04-31-KbcBnG",
        "outputId": "7cfd43d6-cf47-4e6f-8563-638bdd5d8e18"
      },
      "execution_count": 7,
      "outputs": [
        {
          "output_type": "display_data",
          "data": {
            "text/plain": [
              "interactive(children=(Dropdown(description='crops', options=('rice', 'maize', 'jute', 'cotton', 'coconut', 'pa…"
            ],
            "application/vnd.jupyter.widget-view+json": {
              "version_major": 2,
              "version_minor": 0,
              "model_id": "ba7d64fa6f0e4fff96c95518565bb080"
            }
          },
          "metadata": {}
        }
      ]
    },
    {
      "cell_type": "markdown",
      "source": [
        "**Graph For Multi-Varience**"
      ],
      "metadata": {
        "id": "EzNj1RFujzbl"
      }
    },
    {
      "cell_type": "code",
      "source": [
        "plt.subplot(3,4,1)\n",
        "sns.histplot(data['N'],color=\"green\")\n",
        "plt.xlabel(\"Nitrogen\")\n",
        "plt.grid()\n",
        "\n",
        "plt.subplot(3,4,2)\n",
        "sns.histplot(data['P'],color=\"red\")\n",
        "plt.xlabel(\"Phosphorus\")\n",
        "plt.grid()\n",
        "\n",
        "plt.subplot(3,4,3)\n",
        "sns.histplot(data['K'],color=\"yellow\")\n",
        "plt.xlabel(\"Potassium\")\n",
        "plt.grid()\n",
        "\n",
        "plt.subplot(3,4,4)\n",
        "sns.histplot(data['ph'],color=\"blue\")\n",
        "plt.xlabel(\"PH\")\n",
        "plt.grid()\n",
        "\n",
        "plt.subplot(2,4,5)\n",
        "sns.histplot(data['temperature'],color=\"yellow\")\n",
        "plt.xlabel(\"temperature\")\n",
        "plt.grid()\n",
        "\n",
        "plt.subplot(2,4,6)\n",
        "sns.histplot(data['humidity'],color=\"green\")\n",
        "plt.xlabel(\"humidity\")\n",
        "plt.grid()\n",
        "\n",
        "plt.subplot(2,4,7)\n",
        "sns.histplot(data['rainfall'],color=\"blue\")\n",
        "plt.xlabel(\"rainfall\")\n",
        "plt.grid()"
      ],
      "metadata": {
        "colab": {
          "base_uri": "https://localhost:8080/",
          "height": 449
        },
        "id": "zDGwD7Z7kChZ",
        "outputId": "1a4324db-27b8-4fd8-f62b-54d04edfef26"
      },
      "execution_count": 8,
      "outputs": [
        {
          "output_type": "display_data",
          "data": {
            "text/plain": [
              "<Figure size 640x480 with 7 Axes>"
            ],
            "image/png": "[encoded data removed]"
          },
          "metadata": {}
        }
      ]
    },
    {
      "cell_type": "markdown",
      "source": [
        "**Elbow Method To Determine Cluster Size**"
      ],
      "metadata": {
        "id": "P0tgx5NW8zHn"
      }
    },
    {
      "cell_type": "code",
      "source": [
        "from pandas.core.common import random_state\n",
        "from sklearn.cluster import KMeans\n",
        "\n",
        "x=data.drop(['label'],axis=1)\n",
        "x=x.values\n",
        "wcss=[]\n",
        "for i in range(1,11):\n",
        "  km=KMeans(n_clusters=i,init=\"k-means++\", max_iter=2000,n_init=10,random_state=0)\n",
        "  km.fit(x)\n",
        "  wcss.append(km.inertia_)\n",
        "\n",
        "plt.plot(range(1,11),wcss)\n",
        "plt.show()"
      ],
      "metadata": {
        "id": "cakQAqar9Pw7",
        "colab": {
          "base_uri": "https://localhost:8080/",
          "height": 445
        },
        "outputId": "54e52f2e-5de3-4caf-93fe-337a8ca477ca"
      },
      "execution_count": 9,
      "outputs": [
        {
          "output_type": "display_data",
          "data": {
            "text/plain": [
              "<Figure size 640x480 with 1 Axes>"
            ],
            "image/png": "[encoded data removed]"
          },
          "metadata": {}
        }
      ]
    },
    {
      "cell_type": "markdown",
      "source": [
        "**Clustering Phase**"
      ],
      "metadata": {
        "id": "Ucok7f18AC4t"
      }
    },
    {
      "cell_type": "code",
      "source": [
        "km=KMeans(n_clusters=4,init=\"k-means++\", max_iter=2000,n_init=10,random_state=0)\n",
        "y_means=km.fit_predict(x)\n",
        "\n",
        "a=data['label']\n",
        "y_means=pd.DataFrame(y_means)\n",
        "z=pd.concat([y_means,a],axis=1)\n",
        "\n",
        "z=z.rename(columns={0:'cluster'})\n",
        "\n",
        "print(\"Cluster 1\",z[z['cluster']==0]['label'].unique())\n",
        "print(\"Cluster 2\",z[z['cluster']==1]['label'].unique())\n",
        "print(\"Cluster 3\",z[z['cluster']==2]['label'].unique())\n",
        "print(\"Cluster 4\",z[z['cluster']==3]['label'].unique())\n",
        "\n"
      ],
      "metadata": {
        "colab": {
          "base_uri": "https://localhost:8080/"
        },
        "id": "E3txJ6OgAMLS",
        "outputId": "79c50450-26cc-4ab1-8961-537846040498"
      },
      "execution_count": 10,
      "outputs": [
        {
          "output_type": "stream",
          "name": "stdout",
          "text": [
            "Cluster 1 ['maize' 'chickpea' 'kidneybeans' 'pigeonpeas' 'mothbeans' 'mungbean'\n",
            " 'blackgram' 'lentil' 'pomegranate' 'mango' 'orange' 'papaya' 'coconut']\n",
            "Cluster 2 ['maize' 'banana' 'watermelon' 'muskmelon' 'papaya' 'cotton' 'coffee']\n",
            "Cluster 3 ['grapes' 'apple']\n",
            "Cluster 4 ['rice' 'pigeonpeas' 'papaya' 'coconut' 'jute' 'coffee']\n"
          ]
        }
      ]
    },
    {
      "cell_type": "markdown",
      "source": [
        "**Crop Prediction**"
      ],
      "metadata": {
        "id": "eEHmvlJEFO1x"
      }
    },
    {
      "cell_type": "code",
      "source": [
        "y=data['label']\n",
        "from sklearn.model_selection import train_test_split\n",
        "x_train,x_test,y_train,y_test=train_test_split(x,y,test_size=.2,random_state=0)"
      ],
      "metadata": {
        "id": "tDA5XInoGJqQ"
      },
      "execution_count": 11,
      "outputs": []
    },
    {
      "cell_type": "code",
      "source": [
        "from sklearn.linear_model import LogisticRegression\n",
        "\n",
        "model=LogisticRegression()\n",
        "model.fit(x_train,y_train)\n",
        "y_pred=model.predict(np.array([[20,30,40,20,80,7,100]]))\n",
        "print(y_pred)"
      ],
      "metadata": {
        "colab": {
          "base_uri": "https://localhost:8080/"
        },
        "id": "J_CTrKb9FUEZ",
        "outputId": "a832476b-80e1-45d2-93cd-e501e348c6af"
      },
      "execution_count": 12,
      "outputs": [
        {
          "output_type": "stream",
          "name": "stdout",
          "text": [
            "['pomegranate']\n"
          ]
        }
      ]
    },
    {
      "cell_type": "markdown",
      "source": [
        "**Accuracy**"
      ],
      "metadata": {
        "id": "ON1ws5eXIAdZ"
      }
    },
    {
      "cell_type": "code",
      "source": [
        "y_pred=model.predict(x_test)\n",
        "from sklearn.metrics import classification_report\n",
        "cr=classification_report(y_test,y_pred)\n",
        "print(cr)"
      ],
      "metadata": {
        "colab": {
          "base_uri": "https://localhost:8080/"
        },
        "id": "D2nID94tIURQ",
        "outputId": "a44a995a-2166-4fb0-b70d-f5dc7f16706a"
      },
      "execution_count": 13,
      "outputs": [
        {
          "output_type": "stream",
          "name": "stdout",
          "text": [
            "              precision    recall  f1-score   support\n",
            "\n",
            "       apple       1.00      1.00      1.00        18\n",
            "      banana       1.00      1.00      1.00        18\n",
            "   blackgram       0.86      0.82      0.84        22\n",
            "    chickpea       1.00      1.00      1.00        23\n",
            "     coconut       1.00      1.00      1.00        15\n",
            "      coffee       1.00      1.00      1.00        17\n",
            "      cotton       0.89      1.00      0.94        16\n",
            "      grapes       1.00      1.00      1.00        18\n",
            "        jute       0.84      1.00      0.91        21\n",
            " kidneybeans       1.00      1.00      1.00        20\n",
            "      lentil       0.94      0.94      0.94        17\n",
            "       maize       0.94      0.89      0.91        18\n",
            "       mango       1.00      1.00      1.00        21\n",
            "   mothbeans       0.88      0.92      0.90        25\n",
            "    mungbean       1.00      1.00      1.00        17\n",
            "   muskmelon       1.00      1.00      1.00        23\n",
            "      orange       1.00      1.00      1.00        23\n",
            "      papaya       1.00      0.95      0.98        21\n",
            "  pigeonpeas       1.00      1.00      1.00        22\n",
            " pomegranate       1.00      1.00      1.00        23\n",
            "        rice       1.00      0.84      0.91        25\n",
            "  watermelon       1.00      1.00      1.00        17\n",
            "\n",
            "    accuracy                           0.97       440\n",
            "   macro avg       0.97      0.97      0.97       440\n",
            "weighted avg       0.97      0.97      0.97       440\n",
            "\n"
          ]
        }
      ]
    },
    {
      "cell_type": "markdown",
      "source": [
        "**Confusion Matrix**"
      ],
      "metadata": {
        "id": "l9lTADRrI1_m"
      }
    },
    {
      "cell_type": "code",
      "source": [
        "from sklearn.metrics import confusion_matrix\n",
        "cm=confusion_matrix(y_test,y_pred)\n",
        "sns.heatmap(cm,annot=True)"
      ],
      "metadata": {
        "colab": {
          "base_uri": "https://localhost:8080/",
          "height": 447
        },
        "id": "AYeWTgFkI6VE",
        "outputId": "e329f3ce-94e1-4be7-a77d-025b02d4a61c"
      },
      "execution_count": 14,
      "outputs": [
        {
          "output_type": "execute_result",
          "data": {
            "text/plain": [
              "<Axes: >"
            ]
          },
          "metadata": {},
          "execution_count": 14
        },
        {
          "output_type": "display_data",
          "data": {
            "text/plain": [
              "<Figure size 640x480 with 2 Axes>"
            ],
            "image/png": "[encoded data removed]"
          },
          "metadata": {}
        }
      ]
    }
  ]
}